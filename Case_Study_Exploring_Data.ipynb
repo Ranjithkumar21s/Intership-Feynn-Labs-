{
  "nbformat": 4,
  "nbformat_minor": 0,
  "metadata": {
    "colab": {
      "provenance": []
    },
    "kernelspec": {
      "name": "python3",
      "display_name": "Python 3"
    },
    "language_info": {
      "name": "python"
    }
  },
  "cells": [
    {
      "cell_type": "markdown",
      "source": [
        "### Market Segmentation Analysis\n",
        "\n",
        "####R to Python - Exploring Data Section"
      ],
      "metadata": {
        "id": "2-mPZw6EUQtj"
      }
    },
    {
      "cell_type": "markdown",
      "source": [
        "library(\"MSA\")\n",
        "\n",
        "data(\"mcdonalds\", package = \"MSA\")\n",
        "\n",
        "names(mcdonalds)\n"
      ],
      "metadata": {
        "id": "JqvtodZyUmFC"
      }
    },
    {
      "cell_type": "code",
      "execution_count": null,
      "metadata": {
        "id": "r5tdTuhjUPkI"
      },
      "outputs": [],
      "source": [
        "#importing MSA\n",
        "import MSA\n",
        "\n",
        "#reading the mcdonalds dataset\n",
        "mcdonalds = MSA.data(\"mcdonalds\")\n",
        "names_mcdonalds = mcdonalds.columns"
      ]
    },
    {
      "cell_type": "markdown",
      "source": [
        "dim(mcdonalds)"
      ],
      "metadata": {
        "id": "gf3h2EV6VIlW"
      }
    },
    {
      "cell_type": "code",
      "source": [
        "# Get the dimensions\n",
        "dimensions = mcdonalds.shape\n",
        "\n",
        "# Print the dimensions\n",
        "print(dimensions)"
      ],
      "metadata": {
        "id": "im7ngqnIWJ3W"
      },
      "execution_count": null,
      "outputs": []
    },
    {
      "cell_type": "markdown",
      "source": [
        "head(mcdonalds, 3)"
      ],
      "metadata": {
        "id": "EgqEDI5gWpzE"
      }
    },
    {
      "cell_type": "code",
      "source": [
        "# Get the dimensions\n",
        "dimensions = mcdonalds.shape\n",
        "\n",
        "# Print the dimensions\n",
        "print(dimensions)"
      ],
      "metadata": {
        "id": "VWcJPu-wWslR"
      },
      "execution_count": null,
      "outputs": []
    },
    {
      "cell_type": "markdown",
      "source": [
        "head(mcdonalds, 3)"
      ],
      "metadata": {
        "id": "iN-ezMaMYNH5"
      }
    },
    {
      "cell_type": "code",
      "source": [
        "# Display the first 3 rows\n",
        "print(mcdonalds.head(3))"
      ],
      "metadata": {
        "id": "GHvLDT3LYSVt"
      },
      "execution_count": null,
      "outputs": []
    },
    {
      "cell_type": "markdown",
      "source": [
        "MD.x <- as.matrix(mcdonalds[, 1:11])\n",
        "MD.x <- (MD.x == \"Yes\") + 0\n",
        "round(colMeans(MD.x), 2)"
      ],
      "metadata": {
        "id": "r7nrCXWJW0GY"
      }
    },
    {
      "cell_type": "code",
      "source": [
        "\n",
        "# Select columns 1 through 11\n",
        "MD_x = mcdonalds.iloc[:, 0:11]\n",
        "\n",
        "# Convert \"Yes\" to 1 and \"No\" to 0\n",
        "MD_x = (MD_x == \"Yes\").astype(int)\n",
        "\n",
        "# Calculate column-wise mean and round to two decimal places\n",
        "result = round(MD_x.mean(), 2)\n",
        "\n",
        "# Print the result\n",
        "print(result)"
      ],
      "metadata": {
        "id": "U2NyxdJjXOuX"
      },
      "execution_count": null,
      "outputs": []
    },
    {
      "cell_type": "markdown",
      "source": [
        "MD.pca <- prcomp(MD.x)\n",
        "summary(MD.pca)"
      ],
      "metadata": {
        "id": "6rUNcBVUXY1n"
      }
    },
    {
      "cell_type": "code",
      "source": [
        "# Select columns 1 through 11\n",
        "MD_x = mcdonalds.iloc[:, 0:11]\n",
        "\n",
        "# Convert \"Yes\" to 1 and \"No\" to 0\n",
        "MD_x = (MD_x == \"Yes\").astype(int)\n",
        "\n",
        "# Perform PCA\n",
        "MD_pca = PCA()\n",
        "MD_pca.fit(MD_x)\n"
      ],
      "metadata": {
        "id": "oSrryx4_X2oZ"
      },
      "execution_count": null,
      "outputs": []
    },
    {
      "cell_type": "markdown",
      "source": [
        "print(MD.pca, digits = 1)"
      ],
      "metadata": {
        "id": "30bhwKsaYcbr"
      }
    },
    {
      "cell_type": "code",
      "source": [
        "print(pd.DataFrame(MD_pca.components_).round(1))"
      ],
      "metadata": {
        "id": "YBLjYFVqYjgm"
      },
      "execution_count": null,
      "outputs": []
    }
  ]
}